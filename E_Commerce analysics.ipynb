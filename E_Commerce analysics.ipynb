{
 "cells": [
  {
   "cell_type": "code",
   "execution_count": 1,
   "id": "a2e1fce0-c2cc-4ec2-b7b2-840ebbefb997",
   "metadata": {},
   "outputs": [],
   "source": [
    "import pandas as pd \n",
    "import matplotlib.pyplot as plt"
   ]
  },
  {
   "cell_type": "code",
   "execution_count": 2,
   "id": "bb3f583f-cdd0-4b7d-a21a-8268d9a483fc",
   "metadata": {},
   "outputs": [
    {
     "data": {
      "text/html": [
       "<div>\n",
       "<style scoped>\n",
       "    .dataframe tbody tr th:only-of-type {\n",
       "        vertical-align: middle;\n",
       "    }\n",
       "\n",
       "    .dataframe tbody tr th {\n",
       "        vertical-align: top;\n",
       "    }\n",
       "\n",
       "    .dataframe thead th {\n",
       "        text-align: right;\n",
       "    }\n",
       "</style>\n",
       "<table border=\"1\" class=\"dataframe\">\n",
       "  <thead>\n",
       "    <tr style=\"text-align: right;\">\n",
       "      <th></th>\n",
       "      <th>Order_ID</th>\n",
       "      <th>Product</th>\n",
       "      <th>Category</th>\n",
       "      <th>Price</th>\n",
       "      <th>Quantity</th>\n",
       "      <th>Order_Date</th>\n",
       "      <th>Customer_City</th>\n",
       "    </tr>\n",
       "  </thead>\n",
       "  <tbody>\n",
       "    <tr>\n",
       "      <th>0</th>\n",
       "      <td>1001</td>\n",
       "      <td>Laptop</td>\n",
       "      <td>Electronics</td>\n",
       "      <td>800</td>\n",
       "      <td>1</td>\n",
       "      <td>2023-01-10</td>\n",
       "      <td>Karachi</td>\n",
       "    </tr>\n",
       "    <tr>\n",
       "      <th>1</th>\n",
       "      <td>1002</td>\n",
       "      <td>Headphones</td>\n",
       "      <td>Electronics</td>\n",
       "      <td>50</td>\n",
       "      <td>2</td>\n",
       "      <td>2023-01-15</td>\n",
       "      <td>Lahore</td>\n",
       "    </tr>\n",
       "    <tr>\n",
       "      <th>2</th>\n",
       "      <td>1003</td>\n",
       "      <td>Keyboard</td>\n",
       "      <td>Accessories</td>\n",
       "      <td>30</td>\n",
       "      <td>3</td>\n",
       "      <td>2023-01-18</td>\n",
       "      <td>Islamabad</td>\n",
       "    </tr>\n",
       "    <tr>\n",
       "      <th>3</th>\n",
       "      <td>1004</td>\n",
       "      <td>Monitor</td>\n",
       "      <td>Electronics</td>\n",
       "      <td>200</td>\n",
       "      <td>1</td>\n",
       "      <td>2023-01-20</td>\n",
       "      <td>Karachi</td>\n",
       "    </tr>\n",
       "    <tr>\n",
       "      <th>4</th>\n",
       "      <td>1005</td>\n",
       "      <td>Laptop</td>\n",
       "      <td>Electronics</td>\n",
       "      <td>850</td>\n",
       "      <td>1</td>\n",
       "      <td>2023-02-05</td>\n",
       "      <td>Lahore</td>\n",
       "    </tr>\n",
       "    <tr>\n",
       "      <th>5</th>\n",
       "      <td>1006</td>\n",
       "      <td>Mouse</td>\n",
       "      <td>Accessories</td>\n",
       "      <td>20</td>\n",
       "      <td>4</td>\n",
       "      <td>2023-02-07</td>\n",
       "      <td>Karachi</td>\n",
       "    </tr>\n",
       "  </tbody>\n",
       "</table>\n",
       "</div>"
      ],
      "text/plain": [
       "   Order_ID     Product     Category  Price  Quantity Order_Date Customer_City\n",
       "0      1001      Laptop  Electronics    800         1 2023-01-10       Karachi\n",
       "1      1002  Headphones  Electronics     50         2 2023-01-15        Lahore\n",
       "2      1003    Keyboard  Accessories     30         3 2023-01-18     Islamabad\n",
       "3      1004     Monitor  Electronics    200         1 2023-01-20       Karachi\n",
       "4      1005      Laptop  Electronics    850         1 2023-02-05        Lahore\n",
       "5      1006       Mouse  Accessories     20         4 2023-02-07       Karachi"
      ]
     },
     "execution_count": 2,
     "metadata": {},
     "output_type": "execute_result"
    }
   ],
   "source": [
    "data = {\n",
    "    \"Order_ID\": [1001, 1002, 1003, 1004, 1005, 1006],\n",
    "    \"Product\": [\"Laptop\", \"Headphones\", \"Keyboard\", \"Monitor\", \"Laptop\", \"Mouse\"],\n",
    "    \"Category\": [\"Electronics\", \"Electronics\", \"Accessories\", \"Electronics\", \"Electronics\", \"Accessories\"],\n",
    "    \"Price\": [800, 50, 30, 200, 850, 20],\n",
    "    \"Quantity\": [1, 2, 3, 1, 1, 4],\n",
    "    \"Order_Date\": pd.to_datetime([\"2023-01-10\", \"2023-01-15\", \"2023-01-18\", \"2023-01-20\", \"2023-02-05\", \"2023-02-07\"]),\n",
    "    \"Customer_City\": [\"Karachi\", \"Lahore\", \"Islamabad\", \"Karachi\", \"Lahore\", \"Karachi\"]\n",
    "}\n",
    "ds = pd.DataFrame(data)\n",
    "ds"
   ]
  },
  {
   "cell_type": "code",
   "execution_count": 3,
   "id": "970def35-2642-4b25-9d01-42f4238c0a11",
   "metadata": {},
   "outputs": [
    {
     "data": {
      "text/plain": [
       "Order_ID         0\n",
       "Product          0\n",
       "Category         0\n",
       "Price            0\n",
       "Quantity         0\n",
       "Order_Date       0\n",
       "Customer_City    0\n",
       "dtype: int64"
      ]
     },
     "execution_count": 3,
     "metadata": {},
     "output_type": "execute_result"
    }
   ],
   "source": [
    "check = ds.isnull().sum()\n",
    "check"
   ]
  },
  {
   "cell_type": "code",
   "execution_count": 4,
   "id": "03a5cfa8-b0c9-4a66-a1f7-a1cd30664116",
   "metadata": {},
   "outputs": [
    {
     "name": "stdout",
     "output_type": "stream",
     "text": [
      "<class 'pandas.core.frame.DataFrame'>\n",
      "RangeIndex: 6 entries, 0 to 5\n",
      "Data columns (total 7 columns):\n",
      " #   Column         Non-Null Count  Dtype         \n",
      "---  ------         --------------  -----         \n",
      " 0   Order_ID       6 non-null      int64         \n",
      " 1   Product        6 non-null      object        \n",
      " 2   Category       6 non-null      object        \n",
      " 3   Price          6 non-null      int64         \n",
      " 4   Quantity       6 non-null      int64         \n",
      " 5   Order_Date     6 non-null      datetime64[ns]\n",
      " 6   Customer_City  6 non-null      object        \n",
      "dtypes: datetime64[ns](1), int64(3), object(3)\n",
      "memory usage: 468.0+ bytes\n"
     ]
    }
   ],
   "source": [
    "ds.info()"
   ]
  },
  {
   "cell_type": "code",
   "execution_count": 5,
   "id": "508e5dc7-6811-4a67-909c-e685baf001f2",
   "metadata": {},
   "outputs": [
    {
     "data": {
      "text/html": [
       "<div>\n",
       "<style scoped>\n",
       "    .dataframe tbody tr th:only-of-type {\n",
       "        vertical-align: middle;\n",
       "    }\n",
       "\n",
       "    .dataframe tbody tr th {\n",
       "        vertical-align: top;\n",
       "    }\n",
       "\n",
       "    .dataframe thead th {\n",
       "        text-align: right;\n",
       "    }\n",
       "</style>\n",
       "<table border=\"1\" class=\"dataframe\">\n",
       "  <thead>\n",
       "    <tr style=\"text-align: right;\">\n",
       "      <th></th>\n",
       "      <th>Order_ID</th>\n",
       "      <th>Product</th>\n",
       "      <th>Category</th>\n",
       "      <th>Price</th>\n",
       "      <th>Quantity</th>\n",
       "      <th>Order_Date</th>\n",
       "      <th>Customer_City</th>\n",
       "      <th>datetime</th>\n",
       "    </tr>\n",
       "  </thead>\n",
       "  <tbody>\n",
       "    <tr>\n",
       "      <th>0</th>\n",
       "      <td>1001</td>\n",
       "      <td>Laptop</td>\n",
       "      <td>Electronics</td>\n",
       "      <td>800</td>\n",
       "      <td>1</td>\n",
       "      <td>2023-01-10</td>\n",
       "      <td>Karachi</td>\n",
       "      <td>2023-01-10</td>\n",
       "    </tr>\n",
       "    <tr>\n",
       "      <th>1</th>\n",
       "      <td>1002</td>\n",
       "      <td>Headphones</td>\n",
       "      <td>Electronics</td>\n",
       "      <td>50</td>\n",
       "      <td>2</td>\n",
       "      <td>2023-01-15</td>\n",
       "      <td>Lahore</td>\n",
       "      <td>2023-01-15</td>\n",
       "    </tr>\n",
       "    <tr>\n",
       "      <th>2</th>\n",
       "      <td>1003</td>\n",
       "      <td>Keyboard</td>\n",
       "      <td>Accessories</td>\n",
       "      <td>30</td>\n",
       "      <td>3</td>\n",
       "      <td>2023-01-18</td>\n",
       "      <td>Islamabad</td>\n",
       "      <td>2023-01-18</td>\n",
       "    </tr>\n",
       "    <tr>\n",
       "      <th>3</th>\n",
       "      <td>1004</td>\n",
       "      <td>Monitor</td>\n",
       "      <td>Electronics</td>\n",
       "      <td>200</td>\n",
       "      <td>1</td>\n",
       "      <td>2023-01-20</td>\n",
       "      <td>Karachi</td>\n",
       "      <td>2023-01-20</td>\n",
       "    </tr>\n",
       "    <tr>\n",
       "      <th>4</th>\n",
       "      <td>1005</td>\n",
       "      <td>Laptop</td>\n",
       "      <td>Electronics</td>\n",
       "      <td>850</td>\n",
       "      <td>1</td>\n",
       "      <td>2023-02-05</td>\n",
       "      <td>Lahore</td>\n",
       "      <td>2023-02-05</td>\n",
       "    </tr>\n",
       "    <tr>\n",
       "      <th>5</th>\n",
       "      <td>1006</td>\n",
       "      <td>Mouse</td>\n",
       "      <td>Accessories</td>\n",
       "      <td>20</td>\n",
       "      <td>4</td>\n",
       "      <td>2023-02-07</td>\n",
       "      <td>Karachi</td>\n",
       "      <td>2023-02-07</td>\n",
       "    </tr>\n",
       "  </tbody>\n",
       "</table>\n",
       "</div>"
      ],
      "text/plain": [
       "   Order_ID     Product     Category  Price  Quantity Order_Date  \\\n",
       "0      1001      Laptop  Electronics    800         1 2023-01-10   \n",
       "1      1002  Headphones  Electronics     50         2 2023-01-15   \n",
       "2      1003    Keyboard  Accessories     30         3 2023-01-18   \n",
       "3      1004     Monitor  Electronics    200         1 2023-01-20   \n",
       "4      1005      Laptop  Electronics    850         1 2023-02-05   \n",
       "5      1006       Mouse  Accessories     20         4 2023-02-07   \n",
       "\n",
       "  Customer_City   datetime  \n",
       "0       Karachi 2023-01-10  \n",
       "1        Lahore 2023-01-15  \n",
       "2     Islamabad 2023-01-18  \n",
       "3       Karachi 2023-01-20  \n",
       "4        Lahore 2023-02-05  \n",
       "5       Karachi 2023-02-07  "
      ]
     },
     "execution_count": 5,
     "metadata": {},
     "output_type": "execute_result"
    }
   ],
   "source": [
    "ds[\"datetime\"] = pd.to_datetime(ds['Order_Date'])\n",
    "ds"
   ]
  },
  {
   "cell_type": "code",
   "execution_count": 6,
   "id": "c1225631-c0f9-4330-8d08-deee43f92bcd",
   "metadata": {},
   "outputs": [
    {
     "data": {
      "text/html": [
       "<div>\n",
       "<style scoped>\n",
       "    .dataframe tbody tr th:only-of-type {\n",
       "        vertical-align: middle;\n",
       "    }\n",
       "\n",
       "    .dataframe tbody tr th {\n",
       "        vertical-align: top;\n",
       "    }\n",
       "\n",
       "    .dataframe thead th {\n",
       "        text-align: right;\n",
       "    }\n",
       "</style>\n",
       "<table border=\"1\" class=\"dataframe\">\n",
       "  <thead>\n",
       "    <tr style=\"text-align: right;\">\n",
       "      <th></th>\n",
       "      <th>Order_ID</th>\n",
       "      <th>Product</th>\n",
       "      <th>Category</th>\n",
       "      <th>Price</th>\n",
       "      <th>Quantity</th>\n",
       "      <th>Order_Date</th>\n",
       "      <th>Customer_City</th>\n",
       "      <th>datetime</th>\n",
       "      <th>Total_revenue</th>\n",
       "    </tr>\n",
       "  </thead>\n",
       "  <tbody>\n",
       "    <tr>\n",
       "      <th>0</th>\n",
       "      <td>1001</td>\n",
       "      <td>Laptop</td>\n",
       "      <td>Electronics</td>\n",
       "      <td>800</td>\n",
       "      <td>1</td>\n",
       "      <td>2023-01-10</td>\n",
       "      <td>Karachi</td>\n",
       "      <td>2023-01-10</td>\n",
       "      <td>800</td>\n",
       "    </tr>\n",
       "    <tr>\n",
       "      <th>1</th>\n",
       "      <td>1002</td>\n",
       "      <td>Headphones</td>\n",
       "      <td>Electronics</td>\n",
       "      <td>50</td>\n",
       "      <td>2</td>\n",
       "      <td>2023-01-15</td>\n",
       "      <td>Lahore</td>\n",
       "      <td>2023-01-15</td>\n",
       "      <td>100</td>\n",
       "    </tr>\n",
       "    <tr>\n",
       "      <th>2</th>\n",
       "      <td>1003</td>\n",
       "      <td>Keyboard</td>\n",
       "      <td>Accessories</td>\n",
       "      <td>30</td>\n",
       "      <td>3</td>\n",
       "      <td>2023-01-18</td>\n",
       "      <td>Islamabad</td>\n",
       "      <td>2023-01-18</td>\n",
       "      <td>90</td>\n",
       "    </tr>\n",
       "    <tr>\n",
       "      <th>3</th>\n",
       "      <td>1004</td>\n",
       "      <td>Monitor</td>\n",
       "      <td>Electronics</td>\n",
       "      <td>200</td>\n",
       "      <td>1</td>\n",
       "      <td>2023-01-20</td>\n",
       "      <td>Karachi</td>\n",
       "      <td>2023-01-20</td>\n",
       "      <td>200</td>\n",
       "    </tr>\n",
       "    <tr>\n",
       "      <th>4</th>\n",
       "      <td>1005</td>\n",
       "      <td>Laptop</td>\n",
       "      <td>Electronics</td>\n",
       "      <td>850</td>\n",
       "      <td>1</td>\n",
       "      <td>2023-02-05</td>\n",
       "      <td>Lahore</td>\n",
       "      <td>2023-02-05</td>\n",
       "      <td>850</td>\n",
       "    </tr>\n",
       "    <tr>\n",
       "      <th>5</th>\n",
       "      <td>1006</td>\n",
       "      <td>Mouse</td>\n",
       "      <td>Accessories</td>\n",
       "      <td>20</td>\n",
       "      <td>4</td>\n",
       "      <td>2023-02-07</td>\n",
       "      <td>Karachi</td>\n",
       "      <td>2023-02-07</td>\n",
       "      <td>80</td>\n",
       "    </tr>\n",
       "  </tbody>\n",
       "</table>\n",
       "</div>"
      ],
      "text/plain": [
       "   Order_ID     Product     Category  Price  Quantity Order_Date  \\\n",
       "0      1001      Laptop  Electronics    800         1 2023-01-10   \n",
       "1      1002  Headphones  Electronics     50         2 2023-01-15   \n",
       "2      1003    Keyboard  Accessories     30         3 2023-01-18   \n",
       "3      1004     Monitor  Electronics    200         1 2023-01-20   \n",
       "4      1005      Laptop  Electronics    850         1 2023-02-05   \n",
       "5      1006       Mouse  Accessories     20         4 2023-02-07   \n",
       "\n",
       "  Customer_City   datetime  Total_revenue  \n",
       "0       Karachi 2023-01-10            800  \n",
       "1        Lahore 2023-01-15            100  \n",
       "2     Islamabad 2023-01-18             90  \n",
       "3       Karachi 2023-01-20            200  \n",
       "4        Lahore 2023-02-05            850  \n",
       "5       Karachi 2023-02-07             80  "
      ]
     },
     "execution_count": 6,
     "metadata": {},
     "output_type": "execute_result"
    }
   ],
   "source": [
    "ds['Total_revenue'] = ds['Price'] * ds['Quantity']\n",
    "ds"
   ]
  },
  {
   "cell_type": "code",
   "execution_count": 7,
   "id": "f87d73d2-22d4-4dc5-94f3-21c75346d759",
   "metadata": {},
   "outputs": [
    {
     "name": "stdout",
     "output_type": "stream",
     "text": [
      "Total revenue is  2120\n"
     ]
    }
   ],
   "source": [
    "def Total_revenue():\n",
    "    total_revenue = 0\n",
    "    for revenue in ds['Total_revenue']:\n",
    "        total_revenue+= revenue\n",
    "    return total_revenue\n",
    "\n",
    "\n",
    "print(f\"Total revenue is \",Total_revenue())"
   ]
  },
  {
   "cell_type": "code",
   "execution_count": 8,
   "id": "f85292e7-a0e5-4277-8f7e-f1eb2fe518c0",
   "metadata": {},
   "outputs": [
    {
     "name": "stdout",
     "output_type": "stream",
     "text": [
      "average order value is  353.3333333333333\n"
     ]
    }
   ],
   "source": [
    "average_ordervalue = ds['Total_revenue'].mean()\n",
    "print(f\"average order value is \", average_ordervalue)"
   ]
  },
  {
   "cell_type": "code",
   "execution_count": 9,
   "id": "ab4ba364-49a5-4f17-b942-e4997d380c34",
   "metadata": {},
   "outputs": [
    {
     "name": "stdout",
     "output_type": "stream",
     "text": [
      "Total order is  6\n"
     ]
    }
   ],
   "source": [
    "Total_order = ds[\"Order_ID\"].nunique()\n",
    "print(f\"Total order is \", Total_order)"
   ]
  },
  {
   "cell_type": "code",
   "execution_count": 10,
   "id": "0f855ca2-02ee-4727-b47b-435fdb425424",
   "metadata": {},
   "outputs": [
    {
     "name": "stdout",
     "output_type": "stream",
     "text": [
      "Top saling product Product\n",
      "Mouse         4\n",
      "Keyboard      3\n",
      "Headphones    2\n",
      "Laptop        2\n",
      "Monitor       1\n",
      "Name: Quantity, dtype: int64\n"
     ]
    }
   ],
   "source": [
    "Top_salling_product = ds.groupby('Product')['Quantity'].sum().sort_values(ascending= False).head()\n",
    "print(f\"Top saling product\",Top_salling_product)"
   ]
  },
  {
   "cell_type": "code",
   "execution_count": 11,
   "id": "1e97fa42-9acd-4480-9e6c-78f5f4f62efd",
   "metadata": {},
   "outputs": [
    {
     "name": "stdout",
     "output_type": "stream",
     "text": [
      "Top category by revenue :  Laptop\n"
     ]
    }
   ],
   "source": [
    "product_revenue = ds.groupby('Product')['Total_revenue'].sum().idxmax()\n",
    "print(f\"Top category by revenue : \", product_revenue)"
   ]
  },
  {
   "cell_type": "code",
   "execution_count": 12,
   "id": "0b74a735-ee90-41c0-8ea4-f2b9dbaa2dc5",
   "metadata": {},
   "outputs": [
    {
     "data": {
      "text/plain": [
       "month\n",
       "2023-01    1190\n",
       "2023-02     930\n",
       "Freq: M, Name: Total_revenue, dtype: int64"
      ]
     },
     "execution_count": 12,
     "metadata": {},
     "output_type": "execute_result"
    }
   ],
   "source": [
    "ds['month'] = ds['datetime'].dt.to_period('M')\n",
    "monthly_revenue = ds.groupby('month')['Total_revenue'].sum()\n",
    "monthly_revenue\n"
   ]
  },
  {
   "cell_type": "code",
   "execution_count": 13,
   "id": "e53a5ec7-9d6c-4526-b83a-f4f245450749",
   "metadata": {},
   "outputs": [
    {
     "name": "stdout",
     "output_type": "stream",
     "text": [
      "Highest revenue was in 2023-01 with amount1190\n"
     ]
    }
   ],
   "source": [
    "highist_monthly_revenue = monthly_revenue.idxmax()\n",
    "max_revenue = monthly_revenue.max()\n",
    "print(f\"Highest revenue was in {highist_monthly_revenue} with amount{max_revenue}\")"
   ]
  },
  {
   "cell_type": "code",
   "execution_count": 14,
   "id": "3c81ab3e-b0ab-46fc-898d-063606380304",
   "metadata": {},
   "outputs": [
    {
     "data": {
      "image/png": "[encoded data removed]",
      "text/plain": [
       "<Figure size 640x480 with 1 Axes>"
      ]
     },
     "metadata": {},
     "output_type": "display_data"
    }
   ],
   "source": [
    "plt.plot(ds['Order_Date'],ds['Total_revenue'],marker = \"o\",)\n",
    "plt.xticks(ds['Order_Date'],rotation=40)\n",
    "plt.title(\"revenue over time\")\n",
    "plt.xlabel(\"order_date\")\n",
    "plt.ylabel(\"Total_revenue\")\n",
    "plt.grid(True)\n",
    "plt.tight_layout() \n",
    "plt.show()"
   ]
  },
  {
   "cell_type": "code",
   "execution_count": 15,
   "id": "91182ed9-29d7-4604-8767-4600a5d2758b",
   "metadata": {},
   "outputs": [
    {
     "name": "stdout",
     "output_type": "stream",
     "text": [
      "Customer_City\n",
      "Karachi    3\n",
      "Name: Order_ID, dtype: int64\n"
     ]
    }
   ],
   "source": [
    "highest_order_city = ds.groupby('Customer_City')['Order_ID'].nunique()\n",
    "order = highest_order_city.sort_values(ascending=False).head(1)\n",
    "print(order)"
   ]
  },
  {
   "cell_type": "code",
   "execution_count": 16,
   "id": "fbbd2070-450c-4712-b7fe-7c1db3be151f",
   "metadata": {},
   "outputs": [
    {
     "name": "stdout",
     "output_type": "stream",
     "text": [
      " Karachi earned the most revenue 1080\n"
     ]
    }
   ],
   "source": [
    "city_revenue = ds.groupby('Customer_City')['Total_revenue'].sum()\n",
    "top_city = city_revenue.idxmax()\n",
    "top_revenue = city_revenue.max()\n",
    "print(f\" {top_city} earned the most revenue {top_revenue}\")"
   ]
  },
  {
   "cell_type": "code",
   "execution_count": 17,
   "id": "5586e5dd-ee1c-4b87-95f6-4cc64f09d7ab",
   "metadata": {},
   "outputs": [
    {
     "data": {
      "text/plain": [
       "Customer_City\n",
       "Islamabad      90\n",
       "Karachi      1080\n",
       "Lahore        950\n",
       "Name: Total_revenue, dtype: int64"
      ]
     },
     "execution_count": 17,
     "metadata": {},
     "output_type": "execute_result"
    }
   ],
   "source": [
    "city_revnue = ds.groupby('Customer_City')['Total_revenue'].sum()\n",
    "city_revenue"
   ]
  },
  {
   "cell_type": "code",
   "execution_count": 18,
   "id": "6ba25d88-2008-4c6e-840b-2a071e5ac200",
   "metadata": {},
   "outputs": [
    {
     "data": {
      "image/png": "[encoded data removed]",
      "text/plain": [
       "<Figure size 400x400 with 1 Axes>"
      ]
     },
     "metadata": {},
     "output_type": "display_data"
    }
   ],
   "source": [
    "plt.figure(figsize = (4,4))\n",
    "plt.bar(city_revnue.index,city_revnue.values,width = 0.3,color = \"red\")\n",
    "plt.title(\"Total revenue by city\")\n",
    "plt.xlabel(\"city\")\n",
    "plt.ylabel(\"Revene\")\n",
    "plt.show()"
   ]
  },
  {
   "cell_type": "code",
   "execution_count": 19,
   "id": "619d496c-db0a-40d2-9d25-df4a38ba1cad",
   "metadata": {},
   "outputs": [
    {
     "data": {
      "text/plain": [
       "Category\n",
       "Accessories     25.0\n",
       "Electronics    475.0\n",
       "Name: Price, dtype: float64"
      ]
     },
     "execution_count": 19,
     "metadata": {},
     "output_type": "execute_result"
    }
   ],
   "source": [
    "average_pricebycetegory = ds.groupby('Category')['Price'].mean()\n",
    "average_pricebycetegory"
   ]
  },
  {
   "cell_type": "code",
   "execution_count": 46,
   "id": "521de553-03bb-42bc-a8cc-5e6b38cb678f",
   "metadata": {},
   "outputs": [
    {
     "data": {
      "text/plain": [
       "5"
      ]
     },
     "execution_count": 46,
     "metadata": {},
     "output_type": "execute_result"
    }
   ],
   "source": [
    "unique_product = ds['Product'].nunique()\n",
    "unique_product"
   ]
  },
  {
   "cell_type": "code",
   "execution_count": 62,
   "id": "3ab0c62b-aefb-40fb-aa4e-322c2511bf76",
   "metadata": {},
   "outputs": [
    {
     "data": {
      "text/plain": [
       "Order_ID                              1006\n",
       "Product                              Mouse\n",
       "Category                       Accessories\n",
       "Price                                   20\n",
       "Quantity                                 4\n",
       "Order_Date             2023-02-07 00:00:00\n",
       "Customer_City                      Karachi\n",
       "datetime               2023-02-07 00:00:00\n",
       "Total_revenue                           80\n",
       "month                              2023-02\n",
       "highrevenue_product                   0.05\n",
       "Name: 5, dtype: object"
      ]
     },
     "execution_count": 62,
     "metadata": {},
     "output_type": "execute_result"
    }
   ],
   "source": [
    "ds['highrevenue_product'] = ds['Quantity'] / ds['Total_revenue']\n",
    "ds.loc[ds['highrevenue_product'].idxmax()]"
   ]
  },
  {
   "cell_type": "code",
   "execution_count": 51,
   "id": "02553c8b-3139-4774-9ca7-eb160a236fec",
   "metadata": {},
   "outputs": [
    {
     "data": {
      "text/plain": [
       "Product\n",
       "Laptop        1650\n",
       "Monitor        200\n",
       "Headphones     100\n",
       "Keyboard        90\n",
       "Mouse           80\n",
       "Name: Total_revenue, dtype: int64"
      ]
     },
     "execution_count": 51,
     "metadata": {},
     "output_type": "execute_result"
    }
   ],
   "source": [
    "highproduct_revenue = ds.groupby('Product')['Total_revenue'].sum().sort_values(ascending = False).head(5)\n",
    "highproduct_revenue"
   ]
  },
  {
   "cell_type": "code",
   "execution_count": 61,
   "id": "3a6d6172-121f-49e0-af0b-953a1f09741d",
   "metadata": {},
   "outputs": [
    {
     "data": {
      "image/png": "[encoded data removed]",
      "text/plain": [
       "<Figure size 640x480 with 1 Axes>"
      ]
     },
     "metadata": {},
     "output_type": "display_data"
    }
   ],
   "source": [
    "plt.bar(highproduct_revenue.index,highproduct_revenue.values,width = 0.4,color = \"red\")\n",
    "plt.title(\"Top 5 product by revenue\")\n",
    "plt.xlabel(\"product\")\n",
    "plt.ylabel(\"Total revenu of product\")\n",
    "plt.show()\n"
   ]
  },
  {
   "cell_type": "code",
   "execution_count": 63,
   "id": "35c3b2ab-e0d2-4f26-ad98-fbe7299c83bc",
   "metadata": {},
   "outputs": [
    {
     "data": {
      "text/plain": [
       "Category\n",
       "Accessories     170\n",
       "Electronics    1950\n",
       "Name: Total_revenue, dtype: int64"
      ]
     },
     "execution_count": 63,
     "metadata": {},
     "output_type": "execute_result"
    }
   ],
   "source": [
    "revenue_product_category = ds.groupby('Category')['Total_revenue'].sum()\n",
    "revenue_product_category"
   ]
  },
  {
   "cell_type": "code",
   "execution_count": 75,
   "id": "9ed1e4c3-b6a5-4777-9d44-733865042a42",
   "metadata": {},
   "outputs": [
    {
     "data": {
      "image/png": "[encoded data removed]",
      "text/plain": [
       "<Figure size 300x400 with 1 Axes>"
      ]
     },
     "metadata": {},
     "output_type": "display_data"
    }
   ],
   "source": [
    "\n",
    "plt.figure(figsize=(3, 4))\n",
    "plt.pie(revenue_product_category, labels=revenue_product_category.index, autopct='%1.1f%%', startangle=90)\n",
    "plt.title(\"Revenue by Product Category\")\n",
    "plt.axis('equal')  \n",
    "plt.show()\n",
    "\n",
    "           "
   ]
  },
  {
   "cell_type": "code",
   "execution_count": 89,
   "id": "a3407144-a96a-4c3f-b3a8-5cdc40b39771",
   "metadata": {},
   "outputs": [
    {
     "data": {
      "image/png": "[encoded data removed]",
      "text/plain": [
       "<Figure size 640x480 with 1 Axes>"
      ]
     },
     "metadata": {},
     "output_type": "display_data"
    }
   ],
   "source": [
    "plt.scatter(ds[\"Quantity\"],ds['Total_revenue'],color= \"red\",marker = \"o\")\n",
    "plt.title(\"Scatter Plot of Quantity vs Revenue\")\n",
    "plt.xlabel(\"quantity sold\")\n",
    "plt.ylabel(\"Total revenue\")\n",
    "plt.show()"
   ]
  },
  {
   "cell_type": "code",
   "execution_count": null,
   "id": "1d9893f4-54d5-428c-b2c0-a13a4d85e31c",
   "metadata": {},
   "outputs": [],
   "source": []
  }
 ],
 "metadata": {
  "kernelspec": {
   "display_name": "Python [conda env:base] *",
   "language": "python",
   "name": "conda-base-py"
  },
  "language_info": {
   "codemirror_mode": {
    "name": "ipython",
    "version": 3
   },
   "file_extension": ".py",
   "mimetype": "text/x-python",
   "name": "python",
   "nbconvert_exporter": "python",
   "pygments_lexer": "ipython3",
   "version": "3.12.7"
  }
 },
 "nbformat": 4,
 "nbformat_minor": 5
}
