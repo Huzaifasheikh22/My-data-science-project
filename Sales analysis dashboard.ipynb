{
 "cells": [
  {
   "cell_type": "code",
   "execution_count": 46,
   "id": "3f1a2c6e-0cf2-4df0-ab75-acc51662b1cc",
   "metadata": {},
   "outputs": [],
   "source": [
    "import pandas as pd \n",
    "import matplotlib.pyplot as plt"
   ]
  },
  {
   "cell_type": "code",
   "execution_count": 48,
   "id": "acd5bc35-859c-435d-af1c-3ab9bfdef893",
   "metadata": {},
   "outputs": [
    {
     "data": {
      "text/html": [
       "<div>\n",
       "<style scoped>\n",
       "    .dataframe tbody tr th:only-of-type {\n",
       "        vertical-align: middle;\n",
       "    }\n",
       "\n",
       "    .dataframe tbody tr th {\n",
       "        vertical-align: top;\n",
       "    }\n",
       "\n",
       "    .dataframe thead th {\n",
       "        text-align: right;\n",
       "    }\n",
       "</style>\n",
       "<table border=\"1\" class=\"dataframe\">\n",
       "  <thead>\n",
       "    <tr style=\"text-align: right;\">\n",
       "      <th></th>\n",
       "      <th>Order_ID</th>\n",
       "      <th>Date</th>\n",
       "      <th>Customer_ID</th>\n",
       "      <th>Product</th>\n",
       "      <th>Category</th>\n",
       "      <th>Quantity</th>\n",
       "      <th>Unit_Price</th>\n",
       "      <th>Region</th>\n",
       "    </tr>\n",
       "  </thead>\n",
       "  <tbody>\n",
       "    <tr>\n",
       "      <th>0</th>\n",
       "      <td>ORD001</td>\n",
       "      <td>2023-01-15</td>\n",
       "      <td>CUST01</td>\n",
       "      <td>Laptop</td>\n",
       "      <td>Electronics</td>\n",
       "      <td>1</td>\n",
       "      <td>1200</td>\n",
       "      <td>North</td>\n",
       "    </tr>\n",
       "    <tr>\n",
       "      <th>1</th>\n",
       "      <td>ORD002</td>\n",
       "      <td>2023-02-10</td>\n",
       "      <td>CUST02</td>\n",
       "      <td>Mouse</td>\n",
       "      <td>Accessories</td>\n",
       "      <td>3</td>\n",
       "      <td>25</td>\n",
       "      <td>South</td>\n",
       "    </tr>\n",
       "    <tr>\n",
       "      <th>2</th>\n",
       "      <td>ORD003</td>\n",
       "      <td>2023-03-05</td>\n",
       "      <td>CUST03</td>\n",
       "      <td>Tablet</td>\n",
       "      <td>Electronics</td>\n",
       "      <td>2</td>\n",
       "      <td>600</td>\n",
       "      <td>East</td>\n",
       "    </tr>\n",
       "    <tr>\n",
       "      <th>3</th>\n",
       "      <td>ORD004</td>\n",
       "      <td>2023-04-12</td>\n",
       "      <td>CUST01</td>\n",
       "      <td>Monitor</td>\n",
       "      <td>Electronics</td>\n",
       "      <td>1</td>\n",
       "      <td>300</td>\n",
       "      <td>West</td>\n",
       "    </tr>\n",
       "    <tr>\n",
       "      <th>4</th>\n",
       "      <td>ORD005</td>\n",
       "      <td>2023-05-20</td>\n",
       "      <td>CUST04</td>\n",
       "      <td>Keyboard</td>\n",
       "      <td>Accessories</td>\n",
       "      <td>4</td>\n",
       "      <td>45</td>\n",
       "      <td>North</td>\n",
       "    </tr>\n",
       "  </tbody>\n",
       "</table>\n",
       "</div>"
      ],
      "text/plain": [
       "  Order_ID       Date Customer_ID   Product     Category  Quantity  \\\n",
       "0   ORD001 2023-01-15      CUST01    Laptop  Electronics         1   \n",
       "1   ORD002 2023-02-10      CUST02     Mouse  Accessories         3   \n",
       "2   ORD003 2023-03-05      CUST03    Tablet  Electronics         2   \n",
       "3   ORD004 2023-04-12      CUST01   Monitor  Electronics         1   \n",
       "4   ORD005 2023-05-20      CUST04  Keyboard  Accessories         4   \n",
       "\n",
       "   Unit_Price Region  \n",
       "0        1200  North  \n",
       "1          25  South  \n",
       "2         600   East  \n",
       "3         300   West  \n",
       "4          45  North  "
      ]
     },
     "execution_count": 48,
     "metadata": {},
     "output_type": "execute_result"
    }
   ],
   "source": [
    "data = {\n",
    "    'Order_ID': ['ORD001', 'ORD002', 'ORD003', 'ORD004', 'ORD005'],\n",
    "    'Date': pd.to_datetime(['2023-01-15', '2023-02-10', '2023-03-05', '2023-04-12', '2023-05-20']),\n",
    "    'Customer_ID': ['CUST01', 'CUST02', 'CUST03', 'CUST01', 'CUST04'],\n",
    "    'Product': ['Laptop', 'Mouse', 'Tablet', 'Monitor', 'Keyboard'],\n",
    "    'Category': ['Electronics', 'Accessories', 'Electronics', 'Electronics', 'Accessories'],\n",
    "    'Quantity': [1, 3, 2, 1, 4],\n",
    "    'Unit_Price': [1200, 25, 600, 300, 45],\n",
    "    'Region': ['North', 'South', 'East', 'West', 'North']\n",
    "}\n",
    "df = pd.DataFrame(data)\n",
    "df"
   ]
  },
  {
   "cell_type": "code",
   "execution_count": 50,
   "id": "161d36bb-271f-470d-9392-82adc9c346ef",
   "metadata": {},
   "outputs": [
    {
     "data": {
      "text/html": [
       "<div>\n",
       "<style scoped>\n",
       "    .dataframe tbody tr th:only-of-type {\n",
       "        vertical-align: middle;\n",
       "    }\n",
       "\n",
       "    .dataframe tbody tr th {\n",
       "        vertical-align: top;\n",
       "    }\n",
       "\n",
       "    .dataframe thead th {\n",
       "        text-align: right;\n",
       "    }\n",
       "</style>\n",
       "<table border=\"1\" class=\"dataframe\">\n",
       "  <thead>\n",
       "    <tr style=\"text-align: right;\">\n",
       "      <th></th>\n",
       "      <th>Order_ID</th>\n",
       "      <th>Date</th>\n",
       "      <th>Customer_ID</th>\n",
       "      <th>Product</th>\n",
       "      <th>Category</th>\n",
       "      <th>Quantity</th>\n",
       "      <th>Unit_Price</th>\n",
       "      <th>Region</th>\n",
       "      <th>Data_time</th>\n",
       "    </tr>\n",
       "  </thead>\n",
       "  <tbody>\n",
       "    <tr>\n",
       "      <th>0</th>\n",
       "      <td>ORD001</td>\n",
       "      <td>2023-01-15</td>\n",
       "      <td>CUST01</td>\n",
       "      <td>Laptop</td>\n",
       "      <td>Electronics</td>\n",
       "      <td>1</td>\n",
       "      <td>1200</td>\n",
       "      <td>North</td>\n",
       "      <td>2023-01-15</td>\n",
       "    </tr>\n",
       "    <tr>\n",
       "      <th>1</th>\n",
       "      <td>ORD002</td>\n",
       "      <td>2023-02-10</td>\n",
       "      <td>CUST02</td>\n",
       "      <td>Mouse</td>\n",
       "      <td>Accessories</td>\n",
       "      <td>3</td>\n",
       "      <td>25</td>\n",
       "      <td>South</td>\n",
       "      <td>2023-02-10</td>\n",
       "    </tr>\n",
       "    <tr>\n",
       "      <th>2</th>\n",
       "      <td>ORD003</td>\n",
       "      <td>2023-03-05</td>\n",
       "      <td>CUST03</td>\n",
       "      <td>Tablet</td>\n",
       "      <td>Electronics</td>\n",
       "      <td>2</td>\n",
       "      <td>600</td>\n",
       "      <td>East</td>\n",
       "      <td>2023-03-05</td>\n",
       "    </tr>\n",
       "    <tr>\n",
       "      <th>3</th>\n",
       "      <td>ORD004</td>\n",
       "      <td>2023-04-12</td>\n",
       "      <td>CUST01</td>\n",
       "      <td>Monitor</td>\n",
       "      <td>Electronics</td>\n",
       "      <td>1</td>\n",
       "      <td>300</td>\n",
       "      <td>West</td>\n",
       "      <td>2023-04-12</td>\n",
       "    </tr>\n",
       "    <tr>\n",
       "      <th>4</th>\n",
       "      <td>ORD005</td>\n",
       "      <td>2023-05-20</td>\n",
       "      <td>CUST04</td>\n",
       "      <td>Keyboard</td>\n",
       "      <td>Accessories</td>\n",
       "      <td>4</td>\n",
       "      <td>45</td>\n",
       "      <td>North</td>\n",
       "      <td>2023-05-20</td>\n",
       "    </tr>\n",
       "  </tbody>\n",
       "</table>\n",
       "</div>"
      ],
      "text/plain": [
       "  Order_ID       Date Customer_ID   Product     Category  Quantity  \\\n",
       "0   ORD001 2023-01-15      CUST01    Laptop  Electronics         1   \n",
       "1   ORD002 2023-02-10      CUST02     Mouse  Accessories         3   \n",
       "2   ORD003 2023-03-05      CUST03    Tablet  Electronics         2   \n",
       "3   ORD004 2023-04-12      CUST01   Monitor  Electronics         1   \n",
       "4   ORD005 2023-05-20      CUST04  Keyboard  Accessories         4   \n",
       "\n",
       "   Unit_Price Region  Data_time  \n",
       "0        1200  North 2023-01-15  \n",
       "1          25  South 2023-02-10  \n",
       "2         600   East 2023-03-05  \n",
       "3         300   West 2023-04-12  \n",
       "4          45  North 2023-05-20  "
      ]
     },
     "execution_count": 50,
     "metadata": {},
     "output_type": "execute_result"
    }
   ],
   "source": [
    "df['Data_time'] = pd.to_datetime(df['Date'])\n",
    "df"
   ]
  },
  {
   "cell_type": "code",
   "execution_count": 52,
   "id": "7ab847da-69c9-44c7-9c2c-8438f49a0219",
   "metadata": {},
   "outputs": [
    {
     "data": {
      "text/html": [
       "<div>\n",
       "<style scoped>\n",
       "    .dataframe tbody tr th:only-of-type {\n",
       "        vertical-align: middle;\n",
       "    }\n",
       "\n",
       "    .dataframe tbody tr th {\n",
       "        vertical-align: top;\n",
       "    }\n",
       "\n",
       "    .dataframe thead th {\n",
       "        text-align: right;\n",
       "    }\n",
       "</style>\n",
       "<table border=\"1\" class=\"dataframe\">\n",
       "  <thead>\n",
       "    <tr style=\"text-align: right;\">\n",
       "      <th></th>\n",
       "      <th>Order_ID</th>\n",
       "      <th>Date</th>\n",
       "      <th>Customer_ID</th>\n",
       "      <th>Product</th>\n",
       "      <th>Category</th>\n",
       "      <th>Quantity</th>\n",
       "      <th>Unit_Price</th>\n",
       "      <th>Region</th>\n",
       "      <th>Data_time</th>\n",
       "      <th>Total_Sales</th>\n",
       "    </tr>\n",
       "  </thead>\n",
       "  <tbody>\n",
       "    <tr>\n",
       "      <th>0</th>\n",
       "      <td>ORD001</td>\n",
       "      <td>2023-01-15</td>\n",
       "      <td>CUST01</td>\n",
       "      <td>Laptop</td>\n",
       "      <td>Electronics</td>\n",
       "      <td>1</td>\n",
       "      <td>1200</td>\n",
       "      <td>North</td>\n",
       "      <td>2023-01-15</td>\n",
       "      <td>1200</td>\n",
       "    </tr>\n",
       "    <tr>\n",
       "      <th>1</th>\n",
       "      <td>ORD002</td>\n",
       "      <td>2023-02-10</td>\n",
       "      <td>CUST02</td>\n",
       "      <td>Mouse</td>\n",
       "      <td>Accessories</td>\n",
       "      <td>3</td>\n",
       "      <td>25</td>\n",
       "      <td>South</td>\n",
       "      <td>2023-02-10</td>\n",
       "      <td>75</td>\n",
       "    </tr>\n",
       "    <tr>\n",
       "      <th>2</th>\n",
       "      <td>ORD003</td>\n",
       "      <td>2023-03-05</td>\n",
       "      <td>CUST03</td>\n",
       "      <td>Tablet</td>\n",
       "      <td>Electronics</td>\n",
       "      <td>2</td>\n",
       "      <td>600</td>\n",
       "      <td>East</td>\n",
       "      <td>2023-03-05</td>\n",
       "      <td>1200</td>\n",
       "    </tr>\n",
       "    <tr>\n",
       "      <th>3</th>\n",
       "      <td>ORD004</td>\n",
       "      <td>2023-04-12</td>\n",
       "      <td>CUST01</td>\n",
       "      <td>Monitor</td>\n",
       "      <td>Electronics</td>\n",
       "      <td>1</td>\n",
       "      <td>300</td>\n",
       "      <td>West</td>\n",
       "      <td>2023-04-12</td>\n",
       "      <td>300</td>\n",
       "    </tr>\n",
       "    <tr>\n",
       "      <th>4</th>\n",
       "      <td>ORD005</td>\n",
       "      <td>2023-05-20</td>\n",
       "      <td>CUST04</td>\n",
       "      <td>Keyboard</td>\n",
       "      <td>Accessories</td>\n",
       "      <td>4</td>\n",
       "      <td>45</td>\n",
       "      <td>North</td>\n",
       "      <td>2023-05-20</td>\n",
       "      <td>180</td>\n",
       "    </tr>\n",
       "  </tbody>\n",
       "</table>\n",
       "</div>"
      ],
      "text/plain": [
       "  Order_ID       Date Customer_ID   Product     Category  Quantity  \\\n",
       "0   ORD001 2023-01-15      CUST01    Laptop  Electronics         1   \n",
       "1   ORD002 2023-02-10      CUST02     Mouse  Accessories         3   \n",
       "2   ORD003 2023-03-05      CUST03    Tablet  Electronics         2   \n",
       "3   ORD004 2023-04-12      CUST01   Monitor  Electronics         1   \n",
       "4   ORD005 2023-05-20      CUST04  Keyboard  Accessories         4   \n",
       "\n",
       "   Unit_Price Region  Data_time  Total_Sales  \n",
       "0        1200  North 2023-01-15         1200  \n",
       "1          25  South 2023-02-10           75  \n",
       "2         600   East 2023-03-05         1200  \n",
       "3         300   West 2023-04-12          300  \n",
       "4          45  North 2023-05-20          180  "
      ]
     },
     "execution_count": 52,
     "metadata": {},
     "output_type": "execute_result"
    }
   ],
   "source": [
    "df[\"Total_Sales\"] = df['Quantity'] * df['Unit_Price']\n",
    "df"
   ]
  },
  {
   "cell_type": "code",
   "execution_count": 54,
   "id": "42cfe92b-10b7-4c33-b5b1-d4a8dee0def6",
   "metadata": {},
   "outputs": [
    {
     "data": {
      "text/plain": [
       "Order_ID       0\n",
       "Date           0\n",
       "Customer_ID    0\n",
       "Product        0\n",
       "Category       0\n",
       "Quantity       0\n",
       "Unit_Price     0\n",
       "Region         0\n",
       "Data_time      0\n",
       "Total_Sales    0\n",
       "dtype: int64"
      ]
     },
     "execution_count": 54,
     "metadata": {},
     "output_type": "execute_result"
    }
   ],
   "source": [
    "Check_null = df.isnull().sum()\n",
    "Check_null"
   ]
  },
  {
   "cell_type": "code",
   "execution_count": 56,
   "id": "4104f20c-49c4-4c46-b7af-12a2943e4fcf",
   "metadata": {},
   "outputs": [
    {
     "data": {
      "text/html": [
       "<div>\n",
       "<style scoped>\n",
       "    .dataframe tbody tr th:only-of-type {\n",
       "        vertical-align: middle;\n",
       "    }\n",
       "\n",
       "    .dataframe tbody tr th {\n",
       "        vertical-align: top;\n",
       "    }\n",
       "\n",
       "    .dataframe thead th {\n",
       "        text-align: right;\n",
       "    }\n",
       "</style>\n",
       "<table border=\"1\" class=\"dataframe\">\n",
       "  <thead>\n",
       "    <tr style=\"text-align: right;\">\n",
       "      <th></th>\n",
       "      <th>Order_ID</th>\n",
       "      <th>Date</th>\n",
       "      <th>Customer_ID</th>\n",
       "      <th>Product</th>\n",
       "      <th>Category</th>\n",
       "      <th>Quantity</th>\n",
       "      <th>Unit_Price</th>\n",
       "      <th>Region</th>\n",
       "      <th>Data_time</th>\n",
       "      <th>Total_Sales</th>\n",
       "    </tr>\n",
       "  </thead>\n",
       "  <tbody>\n",
       "    <tr>\n",
       "      <th>0</th>\n",
       "      <td>ORD001</td>\n",
       "      <td>2023-01-15</td>\n",
       "      <td>CUST01</td>\n",
       "      <td>Laptop</td>\n",
       "      <td>Electronics</td>\n",
       "      <td>1</td>\n",
       "      <td>1200</td>\n",
       "      <td>North</td>\n",
       "      <td>2023-01-15</td>\n",
       "      <td>1200</td>\n",
       "    </tr>\n",
       "    <tr>\n",
       "      <th>1</th>\n",
       "      <td>ORD002</td>\n",
       "      <td>2023-02-10</td>\n",
       "      <td>CUST02</td>\n",
       "      <td>Mouse</td>\n",
       "      <td>Accessories</td>\n",
       "      <td>3</td>\n",
       "      <td>25</td>\n",
       "      <td>South</td>\n",
       "      <td>2023-02-10</td>\n",
       "      <td>75</td>\n",
       "    </tr>\n",
       "    <tr>\n",
       "      <th>2</th>\n",
       "      <td>ORD003</td>\n",
       "      <td>2023-03-05</td>\n",
       "      <td>CUST03</td>\n",
       "      <td>Tablet</td>\n",
       "      <td>Electronics</td>\n",
       "      <td>2</td>\n",
       "      <td>600</td>\n",
       "      <td>East</td>\n",
       "      <td>2023-03-05</td>\n",
       "      <td>1200</td>\n",
       "    </tr>\n",
       "    <tr>\n",
       "      <th>3</th>\n",
       "      <td>ORD004</td>\n",
       "      <td>2023-04-12</td>\n",
       "      <td>CUST01</td>\n",
       "      <td>Monitor</td>\n",
       "      <td>Electronics</td>\n",
       "      <td>1</td>\n",
       "      <td>300</td>\n",
       "      <td>West</td>\n",
       "      <td>2023-04-12</td>\n",
       "      <td>300</td>\n",
       "    </tr>\n",
       "  </tbody>\n",
       "</table>\n",
       "</div>"
      ],
      "text/plain": [
       "  Order_ID       Date Customer_ID  Product     Category  Quantity  Unit_Price  \\\n",
       "0   ORD001 2023-01-15      CUST01   Laptop  Electronics         1        1200   \n",
       "1   ORD002 2023-02-10      CUST02    Mouse  Accessories         3          25   \n",
       "2   ORD003 2023-03-05      CUST03   Tablet  Electronics         2         600   \n",
       "3   ORD004 2023-04-12      CUST01  Monitor  Electronics         1         300   \n",
       "\n",
       "  Region  Data_time  Total_Sales  \n",
       "0  North 2023-01-15         1200  \n",
       "1  South 2023-02-10           75  \n",
       "2   East 2023-03-05         1200  \n",
       "3   West 2023-04-12          300  "
      ]
     },
     "execution_count": 56,
     "metadata": {},
     "output_type": "execute_result"
    }
   ],
   "source": [
    "df.head(4)"
   ]
  },
  {
   "cell_type": "code",
   "execution_count": 58,
   "id": "91f1b433-8db1-4daa-9c4f-97bb42ce3925",
   "metadata": {},
   "outputs": [
    {
     "name": "stdout",
     "output_type": "stream",
     "text": [
      "Total revenue is 2955\n"
     ]
    }
   ],
   "source": [
    "def total_revenue():\n",
    "    total_revenues = 0\n",
    "    for revenue in df['Total_Sales']:\n",
    "        total_revenues+=revenue\n",
    "    return total_revenues\n",
    "print(f\"Total revenue is {total_revenue()}\")\n",
    "\n",
    "        "
   ]
  },
  {
   "cell_type": "code",
   "execution_count": 60,
   "id": "6f15ba35-dad2-4956-b1bc-e60992bfdba9",
   "metadata": {},
   "outputs": [
    {
     "data": {
      "text/plain": [
       "591.0"
      ]
     },
     "execution_count": 60,
     "metadata": {},
     "output_type": "execute_result"
    }
   ],
   "source": [
    "average_ordervalue = df.groupby('Order_ID')['Total_Sales'].sum().mean()\n",
    "average_ordervalue"
   ]
  },
  {
   "cell_type": "code",
   "execution_count": 62,
   "id": "46012040-dbe8-43a7-844d-f6c4b4481af8",
   "metadata": {},
   "outputs": [
    {
     "data": {
      "text/plain": [
       "4"
      ]
     },
     "execution_count": 62,
     "metadata": {},
     "output_type": "execute_result"
    }
   ],
   "source": [
    "unique_customer = df['Customer_ID'].nunique()\n",
    "unique_customer"
   ]
  },
  {
   "cell_type": "code",
   "execution_count": 64,
   "id": "ac17bbc1-67f4-46c3-b8d9-189112f198b8",
   "metadata": {},
   "outputs": [
    {
     "data": {
      "text/plain": [
       "'CUST04'"
      ]
     },
     "execution_count": 64,
     "metadata": {},
     "output_type": "execute_result"
    }
   ],
   "source": [
    "most_order = df.groupby('Customer_ID')['Quantity'].sum().idxmax()\n",
    "most_order"
   ]
  },
  {
   "cell_type": "code",
   "execution_count": 66,
   "id": "19c6ce2f-cb26-4e79-8b68-25ed4bff1287",
   "metadata": {},
   "outputs": [
    {
     "data": {
      "text/plain": [
       "'Keyboard'"
      ]
     },
     "execution_count": 66,
     "metadata": {},
     "output_type": "execute_result"
    }
   ],
   "source": [
    "most_product = df.groupby('Product')['Quantity'].sum().idxmax()\n",
    "most_product"
   ]
  },
  {
   "cell_type": "code",
   "execution_count": 68,
   "id": "545cde7f-6851-4b11-b079-e3f11f130b91",
   "metadata": {},
   "outputs": [
    {
     "data": {
      "text/plain": [
       "Product\n",
       "Keyboard     180\n",
       "Laptop      1200\n",
       "Monitor      300\n",
       "Mouse         75\n",
       "Tablet      1200\n",
       "Name: Total_Sales, dtype: int64"
      ]
     },
     "execution_count": 68,
     "metadata": {},
     "output_type": "execute_result"
    }
   ],
   "source": [
    "total_revenue = df.groupby('Product')['Total_Sales'].sum()\n",
    "total_revenue"
   ]
  },
  {
   "cell_type": "code",
   "execution_count": 99,
   "id": "5acea832-99ee-4569-b9a3-f31735ffff0d",
   "metadata": {},
   "outputs": [
    {
     "data": {
      "text/plain": [
       "Category\n",
       "Accessories     255\n",
       "Electronics    2700\n",
       "Name: Total_Sales, dtype: int64"
      ]
     },
     "execution_count": 99,
     "metadata": {},
     "output_type": "execute_result"
    }
   ],
   "source": [
    "total_revenues = df.groupby('Category')['Total_Sales'].sum()\n",
    "total_revenues"
   ]
  },
  {
   "cell_type": "code",
   "execution_count": 72,
   "id": "f186669c-a2a6-4071-b059-2c7318111a1b",
   "metadata": {},
   "outputs": [
    {
     "data": {
      "text/plain": [
       "Region\n",
       "East     1200\n",
       "North    1380\n",
       "South      75\n",
       "West      300\n",
       "Name: Total_Sales, dtype: int64"
      ]
     },
     "execution_count": 72,
     "metadata": {},
     "output_type": "execute_result"
    }
   ],
   "source": [
    "total_revenue = df.groupby('Region')['Total_Sales'].sum()\n",
    "total_revenue"
   ]
  },
  {
   "cell_type": "code",
   "execution_count": 74,
   "id": "9708d054-b004-4b6b-b292-b50e054410a9",
   "metadata": {},
   "outputs": [
    {
     "data": {
      "text/plain": [
       "'North'"
      ]
     },
     "execution_count": 74,
     "metadata": {},
     "output_type": "execute_result"
    }
   ],
   "source": [
    "highest_revenue = df.groupby('Region')['Total_Sales'].sum().idxmax()\n",
    "highest_revenue"
   ]
  },
  {
   "cell_type": "code",
   "execution_count": 76,
   "id": "47af617d-3108-473e-b7a3-975452ce517e",
   "metadata": {},
   "outputs": [
    {
     "data": {
      "text/plain": [
       "'Electronics'"
      ]
     },
     "execution_count": 76,
     "metadata": {},
     "output_type": "execute_result"
    }
   ],
   "source": [
    "highest_average = df.groupby('Category')['Total_Sales'].sum().idxmax()\n",
    "highest_average"
   ]
  },
  {
   "cell_type": "code",
   "execution_count": 127,
   "id": "7394eb2a-d8f1-46dc-92ac-ee52302d6a49",
   "metadata": {},
   "outputs": [
    {
     "data": {
      "image/png": "[encoded data removed]",
      "text/plain": [
       "<Figure size 400x300 with 1 Axes>"
      ]
     },
     "metadata": {},
     "output_type": "display_data"
    }
   ],
   "source": [
    "plt.figure(figsize=(4, 3))\n",
    "plt.bar(total_revenue.index,total_revenue.values,width=0.4)\n",
    "plt.xlabel(\"Region\")\n",
    "plt.ylabel(\"Total_Sales\")\n",
    "plt.title(\"Total sales by Region\")\n",
    "plt.show()"
   ]
  },
  {
   "cell_type": "code",
   "execution_count": 119,
   "id": "927edc2f-7709-487e-b7af-61545a31159e",
   "metadata": {},
   "outputs": [
    {
     "data": {
      "image/png": "[encoded data removed]",
      "text/plain": [
       "<Figure size 300x400 with 1 Axes>"
      ]
     },
     "metadata": {},
     "output_type": "display_data"
    }
   ],
   "source": [
    "\n",
    "plt.figure(figsize=(3, 4))\n",
    "plt.pie(total_revenues.values, labels=total_revenues.index,autopct='%1.1f%%')\n",
    "plt.title(\"Sales contribution by product\")\n",
    "plt.axis('equal')\n",
    "plt.show()"
   ]
  },
  {
   "cell_type": "code",
   "execution_count": 166,
   "id": "15ff1880-9b01-41ac-ada1-1e6e82e4343e",
   "metadata": {},
   "outputs": [
    {
     "data": {
      "image/png": "[encoded data removed]",
      "text/plain": [
       "<Figure size 640x480 with 1 Axes>"
      ]
     },
     "metadata": {},
     "output_type": "display_data"
    }
   ],
   "source": [
    "plt.plot(df['Date'],df['Total_Sales'],marker = 'o',color = 'red')\n",
    "plt.title(\"show total sales over time\")\n",
    "plt.xlabel(\"Date\")\n",
    "plt.ylabel(\"Total Sales\")\n",
    "plt.xticks(rotation=40)\n",
    "plt.grid(True)\n",
    "plt.show()"
   ]
  },
  {
   "cell_type": "code",
   "execution_count": null,
   "id": "b394dfc8-1e21-4b9e-9c54-620792432df4",
   "metadata": {},
   "outputs": [],
   "source": []
  },
  {
   "cell_type": "code",
   "execution_count": null,
   "id": "37a96c77-d19c-41f0-99dd-3e45c175982e",
   "metadata": {},
   "outputs": [],
   "source": []
  }
 ],
 "metadata": {
  "kernelspec": {
   "display_name": "Python [conda env:base] *",
   "language": "python",
   "name": "conda-base-py"
  },
  "language_info": {
   "codemirror_mode": {
    "name": "ipython",
    "version": 3
   },
   "file_extension": ".py",
   "mimetype": "text/x-python",
   "name": "python",
   "nbconvert_exporter": "python",
   "pygments_lexer": "ipython3",
   "version": "3.12.7"
  }
 },
 "nbformat": 4,
 "nbformat_minor": 5
}
